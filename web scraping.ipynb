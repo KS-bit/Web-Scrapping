{
 "cells": [
  {
   "cell_type": "code",
   "execution_count": 182,
   "metadata": {},
   "outputs": [],
   "source": [
    "import requests\n",
    "from bs4 import BeautifulSoup\n",
    "import pandas as pd \n",
    "\n",
    "url ='https://companiesmarketcap.com/tech/largest-tech-companies-by-market-cap/'\n",
    "page= requests.get(url)\n",
    "\n",
    "s= BeautifulSoup(page.content, 'html')\n",
    "\n",
    "headers =[x.text for x in s.find('tr') if x.text != '']\n",
    "table_data =s.find('tbody')\n",
    "\n",
    "table_data.find_all('td')\n",
    "\n",
    "data = [x.text for x in table_data if x.text not in ('','\\n','\\n\\n\\n\\nClose Ad X\\n\\n\\n\\n\\n\\n',' ')]\n",
    "\n",
    "separated_data = [data[i:i+6] for i in range(0, len(data), 6)]\n",
    "df = pd.DataFrame(separated_data, columns= ['Rank', 'Name', 'Market Cap', 'Price', 'Today', 'Country'])\n",
    "df.to_csv(r'C:\\Users\\kirti\\OneDrive\\Desktop\\Resources\\companies data.csv')"
   ]
  },
  {
   "cell_type": "code",
   "execution_count": null,
   "metadata": {},
   "outputs": [],
   "source": []
  },
  {
   "cell_type": "code",
   "execution_count": null,
   "metadata": {},
   "outputs": [],
   "source": []
  }
 ],
 "metadata": {
  "kernelspec": {
   "display_name": "Python 3",
   "language": "python",
   "name": "python3"
  },
  "language_info": {
   "codemirror_mode": {
    "name": "ipython",
    "version": 3
   },
   "file_extension": ".py",
   "mimetype": "text/x-python",
   "name": "python",
   "nbconvert_exporter": "python",
   "pygments_lexer": "ipython3",
   "version": "3.12.2"
  }
 },
 "nbformat": 4,
 "nbformat_minor": 2
}
